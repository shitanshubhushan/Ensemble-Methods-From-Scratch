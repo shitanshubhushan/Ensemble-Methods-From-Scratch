{
 "cells": [
  {
   "cell_type": "code",
   "execution_count": 1,
   "metadata": {},
   "outputs": [],
   "source": [
    "import numpy as np\n",
    "from sklearn.datasets import load_iris\n",
    "from collections import Counter\n",
    "from sklearn.model_selection import train_test_split\n",
    "from sklearn.ensemble import RandomForestClassifier\n",
    "from sklearn.metrics import accuracy_score, classification_report\n",
    "import matplotlib.pyplot as plt\n",
    "from sklearn.tree import plot_tree"
   ]
  },
  {
   "cell_type": "code",
   "execution_count": 2,
   "metadata": {},
   "outputs": [
    {
     "name": "stdout",
     "output_type": "stream",
     "text": [
      "Accuracy: 100.00%\n",
      "Classification Report:\n",
      "              precision    recall  f1-score   support\n",
      "\n",
      "           0       1.00      1.00      1.00        19\n",
      "           1       1.00      1.00      1.00        13\n",
      "           2       1.00      1.00      1.00        13\n",
      "\n",
      "    accuracy                           1.00        45\n",
      "   macro avg       1.00      1.00      1.00        45\n",
      "weighted avg       1.00      1.00      1.00        45\n",
      "\n"
     ]
    }
   ],
   "source": [
    "# Load the iris dataset\n",
    "iris = load_iris()\n",
    "X, y = iris.data, iris.target\n",
    "\n",
    "# Split the data into training and testing sets\n",
    "X_train, X_test, y_train, y_test = train_test_split(X, y, test_size=0.3, random_state=42)\n",
    "\n",
    "# Initialize the Random Forest Tree Classifier\n",
    "clf = RandomForestClassifier(n_estimators=100, criterion='gini', random_state=42)\n",
    "\n",
    "# Fit the classifier to the training data\n",
    "clf.fit(X_train, y_train)\n",
    "\n",
    "# Make predictions on the test data\n",
    "y_pred = clf.predict(X_test)\n",
    "\n",
    "# Evaluate the classifier\n",
    "accuracy = accuracy_score(y_test, y_pred)\n",
    "print(f\"Accuracy: {accuracy * 100:.2f}%\")\n",
    "\n",
    "print(\"Classification Report:\")\n",
    "print(classification_report(y_test, y_pred))\n"
   ]
  },
  {
   "cell_type": "code",
   "execution_count": 3,
   "metadata": {},
   "outputs": [
    {
     "data": {
      "text/plain": [
       "array([1, 0, 2, 1, 1, 0, 1, 2, 1, 1, 2, 0, 0, 0, 0, 1, 2, 1, 1, 2, 0, 2,\n",
       "       0, 2, 2, 2, 2, 2, 0, 0, 0, 0, 1, 0, 0, 2, 1, 0, 0, 0, 2, 1, 1, 0,\n",
       "       0])"
      ]
     },
     "execution_count": 3,
     "metadata": {},
     "output_type": "execute_result"
    }
   ],
   "source": [
    "y_pred"
   ]
  },
  {
   "cell_type": "markdown",
   "metadata": {},
   "source": [
    "## Random Forest From Scratch"
   ]
  },
  {
   "cell_type": "code",
   "execution_count": 4,
   "metadata": {},
   "outputs": [],
   "source": [
    "class Node:\n",
    "    def __init__(self, value=None, feature=None, threshold=None, left=None, right=None):\n",
    "        self.value = value\n",
    "        self.feature = feature\n",
    "        self.threshold = threshold\n",
    "        self.left = left\n",
    "        self.right = right\n",
    "\n",
    "class DecisionTree:\n",
    "    def __init__(self):\n",
    "        self.tree = None\n",
    "    \n",
    "    def gini_impurity(self, y):\n",
    "        _, counts = np.unique(y, return_counts=True)\n",
    "        probabilities = counts / len(y)\n",
    "        return np.sum(probabilities*(1-probabilities))\n",
    "    \n",
    "    def gini_index(self, X, y, feature, threshold):\n",
    "        mask = X[: ,feature] <= threshold\n",
    "        left_gini_impurity = self.gini_impurity(y[mask])\n",
    "        right_gini_impurity = self.gini_impurity(y[~mask])\n",
    "        parent_gini_impurity = self.gini_impurity(y)\n",
    "        p_left = sum(mask)/len(y)\n",
    "        p_right = sum(~mask)/len(y)\n",
    "        GI = parent_gini_impurity - (p_left*left_gini_impurity + p_right*right_gini_impurity)\n",
    "        return GI\n",
    "    \n",
    "    def find_split(self, X, y):\n",
    "        features = X.shape[1]\n",
    "        best_feature = None\n",
    "        best_threshold = None\n",
    "        max_gain = -1\n",
    "        n_features = int(np.sqrt(X.shape[1]))\n",
    "\n",
    "        selected_features = np.random.choice(features, n_features, replace=False)\n",
    "\n",
    "        for feature in selected_features:\n",
    "            thresholds = np.unique(X[:, feature])\n",
    "            for threshold in thresholds:\n",
    "                IG = self.gini_index(X, y, feature, threshold)\n",
    "                if IG > max_gain:\n",
    "                    best_feature, best_threshold, max_gain = feature, threshold, IG\n",
    "        return best_feature, best_threshold\n",
    "        \n",
    "    def build_tree(self, X, y):\n",
    "        if len(np.unique(y)) == 1 or len(y) < 2:\n",
    "            return Node(value=np.unique(y)[0])\n",
    "\n",
    "        feature, threshold = self.find_split(X, y)\n",
    "        \n",
    "        mask = X[:, feature] <= threshold\n",
    "        if sum(mask) < 1 or sum(~mask) < 1:\n",
    "            return Node(value=Counter(y).most_common(1)[0][0])\n",
    "        left = self.build_tree(X[mask], y[mask])\n",
    "        right = self.build_tree(X[~mask], y[~mask])\n",
    "\n",
    "        return Node(feature=feature, threshold=threshold, left=left, right=right)\n",
    "    \n",
    "    def prediction(self, X):\n",
    "        node = self.tree\n",
    "        while node.value == None:\n",
    "            if X[node.feature] <= node.threshold:\n",
    "                node = node.left\n",
    "            else:\n",
    "                node = node.right\n",
    "        pred = node.value\n",
    "        return pred\n",
    "\n",
    "    def predict(self, X):\n",
    "        predictions = np.apply_along_axis(self.prediction, axis=1, arr=X)\n",
    "        return predictions\n",
    "     \n",
    "    def fit(self, X, y):\n",
    "        self.tree = self.build_tree(X, y)\n",
    "\n",
    "class RandomForest:\n",
    "    def __init__(self, n_estimators=100):\n",
    "        self.trees = []\n",
    "        self.n_estimators = n_estimators\n",
    "    \n",
    "    def bootstrap_sample(self, X, y):\n",
    "        n_samples = X.shape[0]\n",
    "        indices = np.random.choice(n_samples, n_samples, replace=True)\n",
    "        return X[indices], y[indices]\n",
    "    \n",
    "    def fit(self, X, y):\n",
    "        for _ in range(self.n_estimators):\n",
    "            X_sample, y_sample = self.bootstrap_sample(X, y)\n",
    "            tree = DecisionTree()\n",
    "            tree.fit(X_sample, y_sample)\n",
    "            self.trees.append(tree)\n",
    "    \n",
    "    def predict(self, X):\n",
    "        tree_predictions = np.array([tree.predict(X) for tree in self.trees])\n",
    "        predictions = [Counter(tree_predictions[:, i]).most_common(1)[0][0] for i in range(X.shape[0])]\n",
    "        return np.array(predictions)"
   ]
  },
  {
   "cell_type": "code",
   "execution_count": 5,
   "metadata": {},
   "outputs": [],
   "source": [
    "model = RandomForest()\n",
    "model.fit(X_train,y_train)\n",
    "pred = model.predict(X_test)"
   ]
  },
  {
   "cell_type": "code",
   "execution_count": 6,
   "metadata": {},
   "outputs": [
    {
     "name": "stdout",
     "output_type": "stream",
     "text": [
      "Accuracy: 100.00%\n",
      "Classification Report:\n",
      "              precision    recall  f1-score   support\n",
      "\n",
      "           0       1.00      1.00      1.00        19\n",
      "           1       1.00      1.00      1.00        13\n",
      "           2       1.00      1.00      1.00        13\n",
      "\n",
      "    accuracy                           1.00        45\n",
      "   macro avg       1.00      1.00      1.00        45\n",
      "weighted avg       1.00      1.00      1.00        45\n",
      "\n"
     ]
    }
   ],
   "source": [
    "# Evaluate the classifier\n",
    "accuracy = accuracy_score(y_test, pred)\n",
    "print(f\"Accuracy: {accuracy * 100:.2f}%\")\n",
    "\n",
    "print(\"Classification Report:\")\n",
    "print(classification_report(y_test, pred))"
   ]
  }
 ],
 "metadata": {
  "kernelspec": {
   "display_name": "Python 3",
   "language": "python",
   "name": "python3"
  },
  "language_info": {
   "codemirror_mode": {
    "name": "ipython",
    "version": 3
   },
   "file_extension": ".py",
   "mimetype": "text/x-python",
   "name": "python",
   "nbconvert_exporter": "python",
   "pygments_lexer": "ipython3",
   "version": "3.11.5"
  }
 },
 "nbformat": 4,
 "nbformat_minor": 2
}
